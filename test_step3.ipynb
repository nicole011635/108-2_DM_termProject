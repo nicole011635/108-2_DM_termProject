{
 "cells": [
  {
   "cell_type": "code",
   "execution_count": 125,
   "metadata": {},
   "outputs": [],
   "source": [
    "#import packages\n",
    "import csv\n",
    "from sklearn.cluster import KMeans\n",
    "import numpy as np\n",
    "import matplotlib.pyplot as plt\n",
    "from sklearn.decomposition import PCA\n",
    "import math\n",
    "from joblib import dump, load"
   ]
  },
  {
   "cell_type": "code",
   "execution_count": 126,
   "metadata": {},
   "outputs": [],
   "source": [
    "#return class amount\n",
    "def getClassAmount(centroids):\n",
    "    return len(centroids)"
   ]
  },
  {
   "cell_type": "code",
   "execution_count": 127,
   "metadata": {},
   "outputs": [],
   "source": [
    "#load centroids from step2 clustering results\n",
    "def getCentroids():\n",
    "    cs = []\n",
    "    with open(\"centroids.csv\", \"r\") as csvfile:\n",
    "        rows = csv.reader(csvfile)\n",
    "        for row in rows:\n",
    "            drow = []\n",
    "            for col in row:\n",
    "                drow.append(float(col))\n",
    "            cs.append(drow)\n",
    "    #cs = np.array(cs)\n",
    "    return cs"
   ]
  },
  {
   "cell_type": "code",
   "execution_count": 128,
   "metadata": {},
   "outputs": [],
   "source": [
    "#每個sample使用features如下，共11個。\n",
    "#['danceability','energy','key', 'loudness', 'mode', 'speechiness', 'acousticness','instrumentalness',\n",
    "# 'liveness','valence','tempo']\n",
    "#classify a feature vector. x must be a 1x11 vector(11 features)\n",
    "def classify(centroids,x):\n",
    "    minDis = 0\n",
    "    belong = 0\n",
    "    for i in range(len(centroids)):\n",
    "        val = 0\n",
    "        for j in range(len(centroids[0])):\n",
    "            val += math.pow(x[j]-centroids[i][j],2)\n",
    "        if i == 0:\n",
    "            minDis = val\n",
    "        elif val < minDis:\n",
    "            minDis = val\n",
    "            belong = i\n",
    "    return belong"
   ]
  },
  {
   "cell_type": "code",
   "execution_count": 129,
   "metadata": {},
   "outputs": [],
   "source": [
    "#load pca model from step2\n",
    "pca = load(\"pca.joblib\")"
   ]
  },
  {
   "cell_type": "code",
   "execution_count": 130,
   "metadata": {},
   "outputs": [],
   "source": [
    "#get centroids\n",
    "centroids = getCentroids()"
   ]
  },
  {
   "cell_type": "code",
   "execution_count": 131,
   "metadata": {},
   "outputs": [],
   "source": [
    "#get class amount\n",
    "classAmount = getClassAmount(centroids)"
   ]
  },
  {
   "cell_type": "code",
   "execution_count": 132,
   "metadata": {},
   "outputs": [],
   "source": [
    "#load data\n",
    "data = []\n",
    "city = []\n",
    "header = []\n",
    "if True:\n",
    "    with open(\"city_result_2.csv\", \"r\") as csvfile:\n",
    "        rows = csv.reader(csvfile)\n",
    "        i = 0\n",
    "        for row in rows:\n",
    "            if i == 0:\n",
    "                header = row[2:13]\n",
    "            else:\n",
    "                data.append(row[2:13])\n",
    "                city.append(row[1])\n",
    "            i += 1"
   ]
  },
  {
   "cell_type": "code",
   "execution_count": 133,
   "metadata": {},
   "outputs": [],
   "source": [
    "#transform data with pca model\n",
    "data = np.array(data, dtype=float)\n",
    "data = pca.transform(data)"
   ]
  },
  {
   "cell_type": "code",
   "execution_count": 134,
   "metadata": {},
   "outputs": [
    {
     "name": "stdout",
     "output_type": "stream",
     "text": [
      "[273, 274, 525, 437, 491]\n"
     ]
    }
   ],
   "source": [
    "#classify every sample in data and output nums of each class\n",
    "result = []\n",
    "nums = [0]*classAmount\n",
    "for i in range(len(data)):\n",
    "    a = [ city[i] , classify(centroids, data[i])]\n",
    "    result.append(a)\n",
    "    nums[classify(centroids, data[i])]+=1\n",
    "print(nums)"
   ]
  },
  {
   "cell_type": "code",
   "execution_count": 135,
   "metadata": {},
   "outputs": [],
   "source": [
    "# 寫入檔案\n",
    "with open('output.csv', 'w', newline='') as csvfile:\n",
    "    writer = csv.writer(csvfile)\n",
    "    writer.writerows(result)"
   ]
  },
  {
   "cell_type": "code",
   "execution_count": 136,
   "metadata": {},
   "outputs": [
    {
     "name": "stdout",
     "output_type": "stream",
     "text": [
      "{'Taipei': {0: 9, 1: 18, 2: 24, 3: 24, 4: 25}, 'Taichung': {0: 12, 1: 14, 2: 27, 3: 24, 4: 23}, 'Tainan': {0: 14, 1: 7, 2: 20, 3: 20, 4: 39}, 'Tokyo': {0: 15, 1: 15, 2: 37, 3: 19, 4: 14}, 'Osaka': {0: 17, 1: 14, 2: 34, 3: 21, 4: 14}, 'Manila': {0: 28, 1: 12, 2: 14, 3: 30, 4: 16}, 'Kuala Lumpur': {0: 9, 1: 13, 2: 22, 3: 33, 4: 23}, 'Jakarta': {0: 18, 1: 12, 2: 27, 3: 26, 4: 17}, 'Canberra': {0: 13, 1: 12, 2: 34, 3: 18, 4: 23}, 'Wellington': {0: 17, 1: 16, 2: 28, 3: 13, 4: 26}, 'London': {0: 5, 1: 10, 2: 18, 3: 22, 4: 45}, 'Madrid': {0: 6, 1: 13, 2: 32, 3: 25, 4: 24}, 'Berlin': {0: 15, 1: 5, 2: 25, 3: 24, 4: 31}, 'Paris': {0: 9, 1: 19, 2: 41, 3: 10, 4: 21}, 'New York': {0: 12, 1: 9, 2: 24, 3: 27, 4: 28}, 'Chicago': {0: 22, 1: 16, 2: 10, 3: 31, 4: 21}, 'Ottawa': {0: 11, 1: 15, 2: 27, 3: 24, 4: 23}, 'Bras?lia': {0: 2, 1: 19, 2: 15, 3: 26, 4: 38}, 'Buenos Aires': {0: 13, 1: 24, 2: 41, 3: 7, 4: 15}, 'Berkeley California': {0: 26, 1: 11, 2: 25, 3: 13, 4: 25}}\n"
     ]
    }
   ],
   "source": [
    "# Get city - music type count\n",
    "# EX ='Taipei': {0: 9, 1: 18, 2: 24, 3: 24, 4: 25}\n",
    "city_music_count = {}\n",
    "count = []\n",
    "for r in result:\n",
    "    if r[0] in city_music_count:\n",
    "        if r[1] in city_music_count[r[0]]:\n",
    "            city_music_count[r[0]][r[1]] += 1\n",
    "    else:\n",
    "        city_music_count[r[0]] = {0:0, 1:0, 2:0, 3:0, 4:0}\n",
    "        city_music_count[r[0]][r[1]] += 1\n",
    "print(city_music_count)"
   ]
  },
  {
   "cell_type": "code",
   "execution_count": 137,
   "metadata": {},
   "outputs": [
    {
     "name": "stdout",
     "output_type": "stream",
     "text": [
      "[['City', '0', '1', '2', '3', '4'], ['Taipei', 0.09, 0.18, 0.24, 0.24, 0.25], ['Taichung', 0.12, 0.14, 0.27, 0.24, 0.23], ['Tainan', 0.14, 0.07, 0.2, 0.2, 0.39], ['Tokyo', 0.15, 0.15, 0.37, 0.19, 0.14], ['Osaka', 0.17, 0.14, 0.34, 0.21, 0.14], ['Manila', 0.28, 0.12, 0.14, 0.3, 0.16], ['Kuala Lumpur', 0.09, 0.13, 0.22, 0.33, 0.23], ['Jakarta', 0.18, 0.12, 0.27, 0.26, 0.17], ['Canberra', 0.13, 0.12, 0.34, 0.18, 0.23], ['Wellington', 0.17, 0.16, 0.28, 0.13, 0.26], ['London', 0.05, 0.1, 0.18, 0.22, 0.45], ['Madrid', 0.06, 0.13, 0.32, 0.25, 0.24], ['Berlin', 0.15, 0.05, 0.25, 0.24, 0.31], ['Paris', 0.09, 0.19, 0.41, 0.1, 0.21], ['New York', 0.12, 0.09, 0.24, 0.27, 0.28], ['Chicago', 0.22, 0.16, 0.1, 0.31, 0.21], ['Ottawa', 0.11, 0.15, 0.27, 0.24, 0.23], ['Bras?lia', 0.02, 0.19, 0.15, 0.26, 0.38], ['Buenos Aires', 0.13, 0.24, 0.41, 0.07, 0.15], ['Berkeley California', 0.26, 0.11, 0.25, 0.13, 0.25]]\n"
     ]
    }
   ],
   "source": [
    "# Get city - music type average\n",
    "# ['Taipei', 0.09, 0.18, 0.24, 0.24, 0.25]\n",
    "city_music_avg = []\n",
    "city_music_avg.append(['City', '0', '1', '2', '3', '4'])\n",
    "for r in city_music_count.items():\n",
    "    avg_value = []\n",
    "    avg_value.append(r[0])\n",
    "    count = 0\n",
    "    for a in r[1].items():\n",
    "        count += a[1]\n",
    "    avg_value.append(r[1][0]/count)\n",
    "    avg_value.append(r[1][1]/count)\n",
    "    avg_value.append(r[1][2]/count)\n",
    "    avg_value.append(r[1][3]/count)\n",
    "    avg_value.append(r[1][4]/count)\n",
    "    city_music_avg.append(avg_value)\n",
    "\n",
    "print(city_music_avg)"
   ]
  },
  {
   "cell_type": "code",
   "execution_count": 138,
   "metadata": {},
   "outputs": [],
   "source": [
    "# 寫入檔案\n",
    "# 欄位資料：['Taipei', 0.09, 0.18, 0.24, 0.24, 0.25]\n",
    "with open('result.csv', 'w', newline='') as csvfile:\n",
    "    writer = csv.writer(csvfile)\n",
    "    writer.writerows(city_music_avg)"
   ]
  },
  {
   "cell_type": "code",
   "execution_count": null,
   "metadata": {},
   "outputs": [],
   "source": []
  }
 ],
 "metadata": {
  "kernelspec": {
   "display_name": "Python 3",
   "language": "python",
   "name": "python3"
  },
  "language_info": {
   "codemirror_mode": {
    "name": "ipython",
    "version": 3
   },
   "file_extension": ".py",
   "mimetype": "text/x-python",
   "name": "python",
   "nbconvert_exporter": "python",
   "pygments_lexer": "ipython3",
   "version": "3.7.0"
  }
 },
 "nbformat": 4,
 "nbformat_minor": 4
}
